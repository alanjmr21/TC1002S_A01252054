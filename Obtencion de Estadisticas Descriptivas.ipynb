{
 "cells": [
  {
   "cell_type": "markdown",
   "id": "8c4b2cfc",
   "metadata": {},
   "source": [
    "# Obtención de Estadisticas Descriptivas\n",
    "\n",
    "En esta actividad trabajaras con el conjunto de datos asignado para el reto. Tienes que replicar los pasos vistos durante las horas de salón en un diferente conjunto de datos.\n",
    "\n",
    "1. Carga los datos usando tu lector de csv o con pandas. Es recomendable hacerlo con pandas.\n",
    "2. Verifica la cantidad de datos que tienes, las variables que contiene cada vector de datos e identifica el tipo de variables.\n",
    "3. Analiza las variables para saber qué representa cada una y en que rangos se encuentran. Si la descripción del problema no te lo indica, utiliza el máximo y el mínimo para encontrarlo."
   ]
  },
  {
   "cell_type": "markdown",
   "id": "276bf2b0",
   "metadata": {},
   "source": [
    "### Carga de librerias\n",
    "\n",
    "Estas son las librerias que nos ayudaran al analisis de datos"
   ]
  },
  {
   "cell_type": "code",
   "execution_count": 6,
   "id": "58c28f8f",
   "metadata": {},
   "outputs": [],
   "source": [
    "import numpy as np\n",
    "import pandas as pd\n",
    "from matplotlib import pyplot as plt"
   ]
  },
  {
   "cell_type": "markdown",
   "id": "e5cf41ed",
   "metadata": {},
   "source": [
    "### Carga del Archivo: Diamonds are Forever\n",
    "\n",
    "Con el metodo read_csv de pandas se carga el archivo en forma de Dataframe"
   ]
  },
  {
   "cell_type": "code",
   "execution_count": 7,
   "id": "f8df3545",
   "metadata": {},
   "outputs": [],
   "source": [
    "diamantes = pd.read_csv(\"Diamonds are Forever.csv\")"
   ]
  },
  {
   "cell_type": "markdown",
   "id": "39f83420",
   "metadata": {},
   "source": [
    "## Analisis Inicial\n",
    "\n",
    "En el analisis se obtienen datos generales del archivo guardado en la variable diamantes. Primero se obtienen sus primeras 5 filas con el metodo head() y sus ultimas 5 filas con el metodo tail()"
   ]
  },
  {
   "cell_type": "code",
   "execution_count": 19,
   "id": "79c5f046",
   "metadata": {},
   "outputs": [
    {
     "data": {
      "text/html": [
       "<div>\n",
       "<style scoped>\n",
       "    .dataframe tbody tr th:only-of-type {\n",
       "        vertical-align: middle;\n",
       "    }\n",
       "\n",
       "    .dataframe tbody tr th {\n",
       "        vertical-align: top;\n",
       "    }\n",
       "\n",
       "    .dataframe thead th {\n",
       "        text-align: right;\n",
       "    }\n",
       "</style>\n",
       "<table border=\"1\" class=\"dataframe\">\n",
       "  <thead>\n",
       "    <tr style=\"text-align: right;\">\n",
       "      <th></th>\n",
       "      <th>Carat</th>\n",
       "      <th>Colour</th>\n",
       "      <th>Clarity</th>\n",
       "      <th>Lab</th>\n",
       "      <th>Price ($US)</th>\n",
       "    </tr>\n",
       "  </thead>\n",
       "  <tbody>\n",
       "    <tr>\n",
       "      <th>0</th>\n",
       "      <td>0.30</td>\n",
       "      <td>1</td>\n",
       "      <td>5</td>\n",
       "      <td>1</td>\n",
       "      <td>911.4</td>\n",
       "    </tr>\n",
       "    <tr>\n",
       "      <th>1</th>\n",
       "      <td>0.30</td>\n",
       "      <td>2</td>\n",
       "      <td>4</td>\n",
       "      <td>1</td>\n",
       "      <td>1057.0</td>\n",
       "    </tr>\n",
       "    <tr>\n",
       "      <th>2</th>\n",
       "      <td>0.30</td>\n",
       "      <td>4</td>\n",
       "      <td>2</td>\n",
       "      <td>1</td>\n",
       "      <td>1057.0</td>\n",
       "    </tr>\n",
       "    <tr>\n",
       "      <th>3</th>\n",
       "      <td>0.30</td>\n",
       "      <td>4</td>\n",
       "      <td>4</td>\n",
       "      <td>1</td>\n",
       "      <td>882.0</td>\n",
       "    </tr>\n",
       "    <tr>\n",
       "      <th>4</th>\n",
       "      <td>0.31</td>\n",
       "      <td>1</td>\n",
       "      <td>4</td>\n",
       "      <td>1</td>\n",
       "      <td>1148.7</td>\n",
       "    </tr>\n",
       "  </tbody>\n",
       "</table>\n",
       "</div>"
      ],
      "text/plain": [
       "   Carat  Colour  Clarity  Lab  Price ($US)\n",
       "0   0.30       1        5    1        911.4\n",
       "1   0.30       2        4    1       1057.0\n",
       "2   0.30       4        2    1       1057.0\n",
       "3   0.30       4        4    1        882.0\n",
       "4   0.31       1        4    1       1148.7"
      ]
     },
     "execution_count": 19,
     "metadata": {},
     "output_type": "execute_result"
    }
   ],
   "source": [
    "diamantes.head()"
   ]
  },
  {
   "cell_type": "code",
   "execution_count": 20,
   "id": "fb6f8a6b",
   "metadata": {},
   "outputs": [
    {
     "data": {
      "text/html": [
       "<div>\n",
       "<style scoped>\n",
       "    .dataframe tbody tr th:only-of-type {\n",
       "        vertical-align: middle;\n",
       "    }\n",
       "\n",
       "    .dataframe tbody tr th {\n",
       "        vertical-align: top;\n",
       "    }\n",
       "\n",
       "    .dataframe thead th {\n",
       "        text-align: right;\n",
       "    }\n",
       "</style>\n",
       "<table border=\"1\" class=\"dataframe\">\n",
       "  <thead>\n",
       "    <tr style=\"text-align: right;\">\n",
       "      <th></th>\n",
       "      <th>Carat</th>\n",
       "      <th>Colour</th>\n",
       "      <th>Clarity</th>\n",
       "      <th>Lab</th>\n",
       "      <th>Price ($US)</th>\n",
       "    </tr>\n",
       "  </thead>\n",
       "  <tbody>\n",
       "    <tr>\n",
       "      <th>303</th>\n",
       "      <td>1.01</td>\n",
       "      <td>6</td>\n",
       "      <td>4</td>\n",
       "      <td>3</td>\n",
       "      <td>5722.5</td>\n",
       "    </tr>\n",
       "    <tr>\n",
       "      <th>304</th>\n",
       "      <td>1.02</td>\n",
       "      <td>3</td>\n",
       "      <td>3</td>\n",
       "      <td>3</td>\n",
       "      <td>7557.2</td>\n",
       "    </tr>\n",
       "    <tr>\n",
       "      <th>305</th>\n",
       "      <td>1.06</td>\n",
       "      <td>5</td>\n",
       "      <td>3</td>\n",
       "      <td>3</td>\n",
       "      <td>6923.0</td>\n",
       "    </tr>\n",
       "    <tr>\n",
       "      <th>306</th>\n",
       "      <td>1.02</td>\n",
       "      <td>5</td>\n",
       "      <td>5</td>\n",
       "      <td>3</td>\n",
       "      <td>6271.3</td>\n",
       "    </tr>\n",
       "    <tr>\n",
       "      <th>307</th>\n",
       "      <td>1.09</td>\n",
       "      <td>6</td>\n",
       "      <td>3</td>\n",
       "      <td>3</td>\n",
       "      <td>6374.9</td>\n",
       "    </tr>\n",
       "  </tbody>\n",
       "</table>\n",
       "</div>"
      ],
      "text/plain": [
       "     Carat  Colour  Clarity  Lab  Price ($US)\n",
       "303   1.01       6        4    3       5722.5\n",
       "304   1.02       3        3    3       7557.2\n",
       "305   1.06       5        3    3       6923.0\n",
       "306   1.02       5        5    3       6271.3\n",
       "307   1.09       6        3    3       6374.9"
      ]
     },
     "execution_count": 20,
     "metadata": {},
     "output_type": "execute_result"
    }
   ],
   "source": [
    "diamantes.tail()"
   ]
  },
  {
   "cell_type": "markdown",
   "id": "5be4ec4d",
   "metadata": {},
   "source": [
    "Con el metodo info() podemos observar las variables (columnas) que existen en el dataframe y el tipo de datos que contienen."
   ]
  },
  {
   "cell_type": "code",
   "execution_count": 10,
   "id": "cda3dc2b",
   "metadata": {},
   "outputs": [
    {
     "name": "stdout",
     "output_type": "stream",
     "text": [
      "<class 'pandas.core.frame.DataFrame'>\n",
      "RangeIndex: 308 entries, 0 to 307\n",
      "Data columns (total 5 columns):\n",
      " #   Column       Non-Null Count  Dtype  \n",
      "---  ------       --------------  -----  \n",
      " 0   Carat        308 non-null    float64\n",
      " 1   Colour       308 non-null    int64  \n",
      " 2   Clarity      308 non-null    int64  \n",
      " 3   Lab          308 non-null    int64  \n",
      " 4   Price ($US)  308 non-null    float64\n",
      "dtypes: float64(2), int64(3)\n",
      "memory usage: 12.2 KB\n"
     ]
    }
   ],
   "source": [
    "diamantes.info()"
   ]
  },
  {
   "cell_type": "code",
   "execution_count": 12,
   "id": "9d9b08eb",
   "metadata": {},
   "outputs": [
    {
     "data": {
      "text/plain": [
       "(308, 5)"
      ]
     },
     "execution_count": 12,
     "metadata": {},
     "output_type": "execute_result"
    }
   ],
   "source": [
    "diamantes.shape"
   ]
  },
  {
   "cell_type": "markdown",
   "id": "838c9ea5",
   "metadata": {},
   "source": [
    "Con el metodo describe() se obtienen estadisticas descriptivas del dataframe como lo son el numero de datos en cada columna, su promedio, su desviación estandar, sus valores maximos y minimos, etc."
   ]
  },
  {
   "cell_type": "code",
   "execution_count": 16,
   "id": "477fa18c",
   "metadata": {},
   "outputs": [
    {
     "data": {
      "text/html": [
       "<div>\n",
       "<style scoped>\n",
       "    .dataframe tbody tr th:only-of-type {\n",
       "        vertical-align: middle;\n",
       "    }\n",
       "\n",
       "    .dataframe tbody tr th {\n",
       "        vertical-align: top;\n",
       "    }\n",
       "\n",
       "    .dataframe thead th {\n",
       "        text-align: right;\n",
       "    }\n",
       "</style>\n",
       "<table border=\"1\" class=\"dataframe\">\n",
       "  <thead>\n",
       "    <tr style=\"text-align: right;\">\n",
       "      <th></th>\n",
       "      <th>Carat</th>\n",
       "      <th>Colour</th>\n",
       "      <th>Clarity</th>\n",
       "      <th>Lab</th>\n",
       "      <th>Price ($US)</th>\n",
       "    </tr>\n",
       "  </thead>\n",
       "  <tbody>\n",
       "    <tr>\n",
       "      <th>count</th>\n",
       "      <td>308.000000</td>\n",
       "      <td>308.00000</td>\n",
       "      <td>308.000000</td>\n",
       "      <td>308.000000</td>\n",
       "      <td>308.000000</td>\n",
       "    </tr>\n",
       "    <tr>\n",
       "      <th>mean</th>\n",
       "      <td>0.630909</td>\n",
       "      <td>3.75000</td>\n",
       "      <td>3.152597</td>\n",
       "      <td>1.766234</td>\n",
       "      <td>3513.638636</td>\n",
       "    </tr>\n",
       "    <tr>\n",
       "      <th>std</th>\n",
       "      <td>0.277183</td>\n",
       "      <td>1.40236</td>\n",
       "      <td>1.293718</td>\n",
       "      <td>0.833283</td>\n",
       "      <td>2382.181001</td>\n",
       "    </tr>\n",
       "    <tr>\n",
       "      <th>min</th>\n",
       "      <td>0.180000</td>\n",
       "      <td>1.00000</td>\n",
       "      <td>1.000000</td>\n",
       "      <td>1.000000</td>\n",
       "      <td>446.600000</td>\n",
       "    </tr>\n",
       "    <tr>\n",
       "      <th>25%</th>\n",
       "      <td>0.350000</td>\n",
       "      <td>3.00000</td>\n",
       "      <td>2.000000</td>\n",
       "      <td>1.000000</td>\n",
       "      <td>1137.500000</td>\n",
       "    </tr>\n",
       "    <tr>\n",
       "      <th>50%</th>\n",
       "      <td>0.620000</td>\n",
       "      <td>4.00000</td>\n",
       "      <td>3.000000</td>\n",
       "      <td>2.000000</td>\n",
       "      <td>2950.500000</td>\n",
       "    </tr>\n",
       "    <tr>\n",
       "      <th>75%</th>\n",
       "      <td>0.850000</td>\n",
       "      <td>5.00000</td>\n",
       "      <td>4.000000</td>\n",
       "      <td>3.000000</td>\n",
       "      <td>5212.200000</td>\n",
       "    </tr>\n",
       "    <tr>\n",
       "      <th>max</th>\n",
       "      <td>1.100000</td>\n",
       "      <td>6.00000</td>\n",
       "      <td>5.000000</td>\n",
       "      <td>3.000000</td>\n",
       "      <td>11205.600000</td>\n",
       "    </tr>\n",
       "  </tbody>\n",
       "</table>\n",
       "</div>"
      ],
      "text/plain": [
       "            Carat     Colour     Clarity         Lab   Price ($US)\n",
       "count  308.000000  308.00000  308.000000  308.000000    308.000000\n",
       "mean     0.630909    3.75000    3.152597    1.766234   3513.638636\n",
       "std      0.277183    1.40236    1.293718    0.833283   2382.181001\n",
       "min      0.180000    1.00000    1.000000    1.000000    446.600000\n",
       "25%      0.350000    3.00000    2.000000    1.000000   1137.500000\n",
       "50%      0.620000    4.00000    3.000000    2.000000   2950.500000\n",
       "75%      0.850000    5.00000    4.000000    3.000000   5212.200000\n",
       "max      1.100000    6.00000    5.000000    3.000000  11205.600000"
      ]
     },
     "execution_count": 16,
     "metadata": {},
     "output_type": "execute_result"
    }
   ],
   "source": [
    "diamantes.describe()"
   ]
  },
  {
   "cell_type": "code",
   "execution_count": 18,
   "id": "e592b919",
   "metadata": {},
   "outputs": [
    {
     "data": {
      "text/plain": [
       "Carat             0.62\n",
       "Colour            4.00\n",
       "Clarity           3.00\n",
       "Lab               2.00\n",
       "Price ($US)    2950.50\n",
       "dtype: float64"
      ]
     },
     "execution_count": 18,
     "metadata": {},
     "output_type": "execute_result"
    }
   ],
   "source": [
    "diamantes.median()"
   ]
  },
  {
   "cell_type": "markdown",
   "id": "98eccc6f",
   "metadata": {},
   "source": [
    "### Basándose en la media, mediana y desviación estándar de cada variable, ¿qué conclusiones puedes entregar de los datos?\n",
    "\n",
    "En base al analisis de datos incial, se puede observar que ninguno de los datos posee valores nulos, con un total de 308 filas y 5 columnas que contienen valores de tipo int64 y float64. Los promedios obtenidos de las variables nos dicen lo siguiente:\n",
    "\n",
    "- La columna Carat nos indica el peso de los diamantes. El promedio de este es de 0.63 carats, equivalente a 0.13 gramos.\n",
    "- La columna Colour indica la calidad del color que va de 1=sin color a 6=casi sin color, su promedio 3.75 se encuentra casi a la mitad de este rango.\n",
    "- Los diamantes tiene un precio promedio de 3513.64 dolares.\n",
    "\n",
    "La desviacion estandar de cada variable es pequeña, ya que se encuentran entre los valores de 0 a 1. Esto significa que los datos no son tan dispersos y se encuentran cerca del promedio de cada variable.\n",
    "\n",
    "La media de cada variable nos da una idea de lo que puede ser el promedio, pues los valores mostrados se acercan a los valores de la mediana en la tabla del metodo describe().  \n"
   ]
  },
  {
   "cell_type": "code",
   "execution_count": null,
   "id": "8ad24a43",
   "metadata": {},
   "outputs": [],
   "source": []
  }
 ],
 "metadata": {
  "kernelspec": {
   "display_name": "Python 3",
   "language": "python",
   "name": "python3"
  },
  "language_info": {
   "codemirror_mode": {
    "name": "ipython",
    "version": 3
   },
   "file_extension": ".py",
   "mimetype": "text/x-python",
   "name": "python",
   "nbconvert_exporter": "python",
   "pygments_lexer": "ipython3",
   "version": "3.8.1"
  }
 },
 "nbformat": 4,
 "nbformat_minor": 5
}
