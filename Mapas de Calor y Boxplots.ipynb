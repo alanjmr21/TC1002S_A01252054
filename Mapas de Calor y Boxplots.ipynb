{
 "cells": [
  {
   "cell_type": "markdown",
   "id": "a443613c",
   "metadata": {},
   "source": [
    "# Mapas de Calor y Boxplots\n",
    "\n",
    "Alan Muñoz - A01252054\n",
    "\n",
    "En esta actividad trabajaras con el conjunto de datos asignado para el reto. Tienes que replicar los pasos vistos durante las horas de salón en un diferente conjunto de datos.\n",
    "\n",
    "1. Carga los datos usando tu lector de csv o con pandas. Es recomendable hacerlo con pandas.\n",
    "2. Realiza el análisis de las variables usando diagramas de cajas y bigotes y mapas de calor.\n",
    "\n",
    "LINK REPOSITORIO - https://github.com/alanjmr21/TC1002S_A01252054\n",
    "\n",
    "#### INSTRUCCIONES PARA CORRER EL CODIGO\n",
    "1. Se debe abrir la terminal y escribir el comando jupyter notebook\n",
    "2. Al abrir este editor de codigo, se puede escribir en la casilla inicial la carga de librerias y presionar el boton RUN en el menu superior de este editor.\n",
    "3. Para agregrar otra casilla hay un boton con el signo + en el mismo menu mencionado, esto hara que se abra otra casilla para escribir codigo. Ahi se escribe las segunda parte del codigo que es \"Carga de Archivo\".\n",
    "4. Se repiten los mismos pasos para correr el codigo."
   ]
  },
  {
   "cell_type": "markdown",
   "id": "3d49289e",
   "metadata": {},
   "source": [
    "### Carga de Librerias"
   ]
  },
  {
   "cell_type": "code",
   "execution_count": 1,
   "id": "e41a1c63",
   "metadata": {},
   "outputs": [],
   "source": [
    "import numpy as np\n",
    "import pandas as pd\n",
    "from matplotlib import pyplot as plt\n",
    "import seaborn as sns"
   ]
  },
  {
   "cell_type": "markdown",
   "id": "04e6887e",
   "metadata": {},
   "source": [
    "### Carga del Archivo"
   ]
  },
  {
   "cell_type": "code",
   "execution_count": 36,
   "id": "9db313fa",
   "metadata": {},
   "outputs": [],
   "source": [
    "diamantes = pd.read_csv(\"Diamonds are Forever.csv\")"
   ]
  },
  {
   "cell_type": "code",
   "execution_count": 37,
   "id": "44427fdb",
   "metadata": {},
   "outputs": [
    {
     "data": {
      "text/html": [
       "<div>\n",
       "<style scoped>\n",
       "    .dataframe tbody tr th:only-of-type {\n",
       "        vertical-align: middle;\n",
       "    }\n",
       "\n",
       "    .dataframe tbody tr th {\n",
       "        vertical-align: top;\n",
       "    }\n",
       "\n",
       "    .dataframe thead th {\n",
       "        text-align: right;\n",
       "    }\n",
       "</style>\n",
       "<table border=\"1\" class=\"dataframe\">\n",
       "  <thead>\n",
       "    <tr style=\"text-align: right;\">\n",
       "      <th></th>\n",
       "      <th>Carat</th>\n",
       "      <th>Colour</th>\n",
       "      <th>Clarity</th>\n",
       "      <th>Lab</th>\n",
       "      <th>Price ($US)</th>\n",
       "    </tr>\n",
       "  </thead>\n",
       "  <tbody>\n",
       "    <tr>\n",
       "      <th>0</th>\n",
       "      <td>0.30</td>\n",
       "      <td>1</td>\n",
       "      <td>5</td>\n",
       "      <td>1</td>\n",
       "      <td>911.4</td>\n",
       "    </tr>\n",
       "    <tr>\n",
       "      <th>1</th>\n",
       "      <td>0.30</td>\n",
       "      <td>2</td>\n",
       "      <td>4</td>\n",
       "      <td>1</td>\n",
       "      <td>1057.0</td>\n",
       "    </tr>\n",
       "    <tr>\n",
       "      <th>2</th>\n",
       "      <td>0.30</td>\n",
       "      <td>4</td>\n",
       "      <td>2</td>\n",
       "      <td>1</td>\n",
       "      <td>1057.0</td>\n",
       "    </tr>\n",
       "    <tr>\n",
       "      <th>3</th>\n",
       "      <td>0.30</td>\n",
       "      <td>4</td>\n",
       "      <td>4</td>\n",
       "      <td>1</td>\n",
       "      <td>882.0</td>\n",
       "    </tr>\n",
       "    <tr>\n",
       "      <th>4</th>\n",
       "      <td>0.31</td>\n",
       "      <td>1</td>\n",
       "      <td>4</td>\n",
       "      <td>1</td>\n",
       "      <td>1148.7</td>\n",
       "    </tr>\n",
       "    <tr>\n",
       "      <th>5</th>\n",
       "      <td>0.31</td>\n",
       "      <td>2</td>\n",
       "      <td>4</td>\n",
       "      <td>1</td>\n",
       "      <td>1088.5</td>\n",
       "    </tr>\n",
       "    <tr>\n",
       "      <th>6</th>\n",
       "      <td>0.31</td>\n",
       "      <td>3</td>\n",
       "      <td>4</td>\n",
       "      <td>1</td>\n",
       "      <td>998.9</td>\n",
       "    </tr>\n",
       "    <tr>\n",
       "      <th>7</th>\n",
       "      <td>0.31</td>\n",
       "      <td>4</td>\n",
       "      <td>3</td>\n",
       "      <td>1</td>\n",
       "      <td>998.9</td>\n",
       "    </tr>\n",
       "    <tr>\n",
       "      <th>8</th>\n",
       "      <td>0.31</td>\n",
       "      <td>5</td>\n",
       "      <td>5</td>\n",
       "      <td>1</td>\n",
       "      <td>788.2</td>\n",
       "    </tr>\n",
       "    <tr>\n",
       "      <th>9</th>\n",
       "      <td>0.31</td>\n",
       "      <td>6</td>\n",
       "      <td>4</td>\n",
       "      <td>1</td>\n",
       "      <td>788.2</td>\n",
       "    </tr>\n",
       "  </tbody>\n",
       "</table>\n",
       "</div>"
      ],
      "text/plain": [
       "   Carat  Colour  Clarity  Lab  Price ($US)\n",
       "0   0.30       1        5    1        911.4\n",
       "1   0.30       2        4    1       1057.0\n",
       "2   0.30       4        2    1       1057.0\n",
       "3   0.30       4        4    1        882.0\n",
       "4   0.31       1        4    1       1148.7\n",
       "5   0.31       2        4    1       1088.5\n",
       "6   0.31       3        4    1        998.9\n",
       "7   0.31       4        3    1        998.9\n",
       "8   0.31       5        5    1        788.2\n",
       "9   0.31       6        4    1        788.2"
      ]
     },
     "execution_count": 37,
     "metadata": {},
     "output_type": "execute_result"
    }
   ],
   "source": [
    "diamantes.head(10)"
   ]
  },
  {
   "cell_type": "markdown",
   "id": "95bdd5f3",
   "metadata": {},
   "source": [
    "## Analisis con la creacion de gráficas"
   ]
  },
  {
   "cell_type": "markdown",
   "id": "69a49665",
   "metadata": {},
   "source": [
    "### Box Plots"
   ]
  },
  {
   "cell_type": "code",
   "execution_count": 34,
   "id": "8eb735fd",
   "metadata": {},
   "outputs": [
    {
     "data": {
      "image/png": "[encoded data removed]",
      "text/plain": [
       "<Figure size 432x288 with 1 Axes>"
      ]
     },
     "metadata": {
      "needs_background": "light"
     },
     "output_type": "display_data"
    }
   ],
   "source": [
    "fig, ax = plt.subplots()\n",
    "ax.boxplot(diamantes[[\"Carat\"]])\n",
    "plt.show()"
   ]
  },
  {
   "cell_type": "code",
   "execution_count": 35,
   "id": "b29c49a0",
   "metadata": {},
   "outputs": [
    {
     "data": {
      "image/png": "[encoded data removed]",
      "text/plain": [
       "<Figure size 432x288 with 1 Axes>"
      ]
     },
     "metadata": {
      "needs_background": "light"
     },
     "output_type": "display_data"
    }
   ],
   "source": [
    "fig, ax = plt.subplots()\n",
    "ax.boxplot(diamantes[[\"Lab\"]])\n",
    "plt.show()"
   ]
  },
  {
   "cell_type": "code",
   "execution_count": 24,
   "id": "9454d246",
   "metadata": {},
   "outputs": [
    {
     "data": {
      "image/png": "[encoded data removed]",
      "text/plain": [
       "<Figure size 432x288 with 1 Axes>"
      ]
     },
     "metadata": {
      "needs_background": "light"
     },
     "output_type": "display_data"
    }
   ],
   "source": [
    "fig, ax = plt.subplots()\n",
    "ax.boxplot(diamantes[[\"Colour\"]])\n",
    "plt.show()"
   ]
  },
  {
   "cell_type": "code",
   "execution_count": 25,
   "id": "3f7cffe2",
   "metadata": {},
   "outputs": [
    {
     "data": {
      "image/png": "[encoded data removed]",
      "text/plain": [
       "<Figure size 432x288 with 1 Axes>"
      ]
     },
     "metadata": {
      "needs_background": "light"
     },
     "output_type": "display_data"
    }
   ],
   "source": [
    "fig, ax = plt.subplots()\n",
    "ax.boxplot(diamantes[[\"Clarity\"]])\n",
    "plt.show()"
   ]
  },
  {
   "cell_type": "code",
   "execution_count": 21,
   "id": "a2a637fa",
   "metadata": {},
   "outputs": [
    {
     "data": {
      "image/png": "[encoded data removed]",
      "text/plain": [
       "<Figure size 432x288 with 1 Axes>"
      ]
     },
     "metadata": {
      "needs_background": "light"
     },
     "output_type": "display_data"
    }
   ],
   "source": [
    "fig, ax = plt.subplots()\n",
    "ax.boxplot(diamantes[[\"Price ($US)\"]])\n",
    "plt.show()"
   ]
  },
  {
   "cell_type": "markdown",
   "id": "22a1e089",
   "metadata": {},
   "source": [
    "### Histograms"
   ]
  },
  {
   "cell_type": "markdown",
   "id": "3ab44681",
   "metadata": {},
   "source": [
    "### Variable Carat\n",
    "\n",
    "Dentro de este analisis se dividieron en rangos los pesos de los diamantes para saber cuantos habia en cada seccion de peso."
   ]
  },
  {
   "cell_type": "code",
   "execution_count": 95,
   "id": "fbb9ce1a",
   "metadata": {},
   "outputs": [
    {
     "data": {
      "text/plain": [
       "Text(0.5, 0, 'Peso en Carats')"
      ]
     },
     "execution_count": 95,
     "metadata": {},
     "output_type": "execute_result"
    },
    {
     "data": {
      "image/png": "[encoded data removed]",
      "text/plain": [
       "<Figure size 432x288 with 1 Axes>"
      ]
     },
     "metadata": {
      "needs_background": "light"
     },
     "output_type": "display_data"
    }
   ],
   "source": [
    "#Rango de 0 a 0.20\n",
    "v1 = len(diamantes[(diamantes[\"Carat\"] > 0) & (diamantes[\"Carat\"] <= 0.20)])\n",
    "#Rango de 0.20 a 0.40\n",
    "v2 = len(diamantes[(diamantes[\"Carat\"] > 0.20) & (diamantes[\"Carat\"] <= 0.40)])\n",
    "#Rango de 0.40 a 0.60\n",
    "v3 = len(diamantes[(diamantes[\"Carat\"] > 0.40) & (diamantes[\"Carat\"] <= 0.60)])\n",
    "#Rango de 0.60 a 0.80\n",
    "v4 = len(diamantes[(diamantes[\"Carat\"] > 0.60) & (diamantes[\"Carat\"] <= 0.80)])\n",
    "#Rango de 0.80 a 1.10\n",
    "v5 = len(diamantes[(diamantes[\"Carat\"] > 0.80) & (diamantes[\"Carat\"] <= 1.10)])\n",
    "\n",
    "rangos = [\"0 a 0.20\", \"0.20 a 0.40\", \"0.40 a 0.60\", \"0.60 a 0.80\", \"0.80 a 1.10\"]\n",
    "valores = [v1,v2,v3,v4,v5]\n",
    "\n",
    "plt.bar(rangos,valores)\n",
    "\n",
    "plt.title(\"Frecuencia del Peso de los Diamantes en Carats\")\n",
    "plt.ylabel(\"Frecuencia\")\n",
    "plt.xlabel(\"Peso en Carats\")"
   ]
  },
  {
   "cell_type": "markdown",
   "id": "84335b0a",
   "metadata": {},
   "source": [
    "### Variable Colour\n",
    "\n",
    "Esta variables almacena, en base a un criterio, en que nivel de coloracion se encuentran los diamantes. Se realizo una tabla de frecuencia de cada color y se ploteo en un histograma."
   ]
  },
  {
   "cell_type": "code",
   "execution_count": 96,
   "id": "16465a31",
   "metadata": {},
   "outputs": [
    {
     "data": {
      "text/plain": [
       "Text(0.5, 0, 'Numero del criterio de color')"
      ]
     },
     "execution_count": 96,
     "metadata": {},
     "output_type": "execute_result"
    },
    {
     "data": {
      "image/png": "[encoded data removed]",
      "text/plain": [
       "<Figure size 432x288 with 1 Axes>"
      ]
     },
     "metadata": {
      "needs_background": "light"
     },
     "output_type": "display_data"
    }
   ],
   "source": [
    "colores={}\n",
    "for number in diamantes[\"Colour\"]:\n",
    "    if number not in colores:\n",
    "        colores[number]=1\n",
    "    else:\n",
    "        colores[number]+=1\n",
    "        \n",
    "color = list(colores.keys()) \n",
    "freq = list(colores.values())\n",
    "plt.bar(color,freq)\n",
    "\n",
    "plt.title(\"Frecuencia del color de los diamantes\")\n",
    "plt.ylabel(\"Frecuencia\")\n",
    "plt.xlabel(\"Numero del criterio de color\")"
   ]
  },
  {
   "cell_type": "markdown",
   "id": "c59fea34",
   "metadata": {},
   "source": [
    "### Variable Clarity\n",
    "\n",
    "La claridad que tienen los diamantes, siendo 1=sin rasguños a 5= defecto muy pequeño."
   ]
  },
  {
   "cell_type": "code",
   "execution_count": 97,
   "id": "c5a15bdc",
   "metadata": {},
   "outputs": [
    {
     "data": {
      "text/plain": [
       "Text(0.5, 0, 'Numero del criterio de claridad')"
      ]
     },
     "execution_count": 97,
     "metadata": {},
     "output_type": "execute_result"
    },
    {
     "data": {
      "image/png": "[encoded data removed]",
      "text/plain": [
       "<Figure size 432x288 with 1 Axes>"
      ]
     },
     "metadata": {
      "needs_background": "light"
     },
     "output_type": "display_data"
    }
   ],
   "source": [
    "claridad={}\n",
    "for number in diamantes[\"Clarity\"]:\n",
    "    if number not in claridad:\n",
    "        claridad[number]=1\n",
    "    else:\n",
    "        claridad[number]+=1\n",
    "        \n",
    "clar = list(claridad.keys()) \n",
    "freq = list(claridad.values())\n",
    "plt.bar(clar,freq)\n",
    "\n",
    "plt.title(\"Frecuencia de la claridad de los diamantes\")\n",
    "plt.ylabel(\"Frecuencia\")\n",
    "plt.xlabel(\"Numero del criterio de claridad\")"
   ]
  },
  {
   "cell_type": "markdown",
   "id": "8484b7e3",
   "metadata": {},
   "source": [
    "### Variable Price ($US)\n",
    "\n",
    "Esta varaiable almacena el precio de los diamantes. Para su analisis se dividieron los precios en rangos."
   ]
  },
  {
   "cell_type": "code",
   "execution_count": 98,
   "id": "67bd7017",
   "metadata": {},
   "outputs": [
    {
     "data": {
      "text/plain": [
       "Text(0.5, 0, 'Rangos de precios')"
      ]
     },
     "execution_count": 98,
     "metadata": {},
     "output_type": "execute_result"
    },
    {
     "data": {
      "image/png": "[encoded data removed]",
      "text/plain": [
       "<Figure size 432x288 with 1 Axes>"
      ]
     },
     "metadata": {
      "needs_background": "light"
     },
     "output_type": "display_data"
    }
   ],
   "source": [
    "#Ranngo de 0 a 2000\n",
    "v1 = len(diamantes[(diamantes[\"Price ($US)\"] > 0) & (diamantes[\"Price ($US)\"] <= 2000)])\n",
    "#Rango de 2000 a 4000\n",
    "v2 = len(diamantes[(diamantes[\"Price ($US)\"] > 2000) & (diamantes[\"Price ($US)\"] <= 4000)])\n",
    "#Rango de 4000 a 6000\n",
    "v3 = len(diamantes[(diamantes[\"Price ($US)\"] > 4000) & (diamantes[\"Price ($US)\"] <= 6000)])\n",
    "#Rango de 6000 a 8000\n",
    "v4 = len(diamantes[(diamantes[\"Price ($US)\"] > 6000) & (diamantes[\"Price ($US)\"] <= 8000)])\n",
    "#Rango de 8000 y mayor\n",
    "v5 = len(diamantes[(diamantes[\"Price ($US)\"] > 8000)])\n",
    "\n",
    "rangos = [\"0 a 2000\",\"2000 a 4000\",\"4000 a 6000\",\"6000 a 8000\",\"Mayor a 8000\"]\n",
    "valor = [v1,v2,v3,v4,v5]\n",
    "\n",
    "plt.bar(rangos,valor)\n",
    "\n",
    "plt.title(\"Frecuencia de precios de los diamantes\")\n",
    "plt.ylabel(\"Frecuencia\")\n",
    "plt.xlabel(\"Rangos de precios\")\n",
    "                   \n"
   ]
  },
  {
   "cell_type": "markdown",
   "id": "c03feaa6",
   "metadata": {},
   "source": [
    "### Mapa de Calor"
   ]
  },
  {
   "cell_type": "code",
   "execution_count": 32,
   "id": "417e5836",
   "metadata": {},
   "outputs": [
    {
     "data": {
      "text/plain": [
       "<AxesSubplot:>"
      ]
     },
     "execution_count": 32,
     "metadata": {},
     "output_type": "execute_result"
    },
    {
     "data": {
      "image/png": "[encoded data removed]",
      "text/plain": [
       "<Figure size 432x288 with 2 Axes>"
      ]
     },
     "metadata": {
      "needs_background": "light"
     },
     "output_type": "display_data"
    }
   ],
   "source": [
    "# Se obtiene una matriz de correlación\n",
    "correlation_matrix = diamantes.corr().round(2)\n",
    "# Se usa la matriz de correlación para dibujar un mapa de calor\n",
    "# annot = True para mostrar los valores dentro del cuadro\n",
    "sns.heatmap(data=correlation_matrix, annot=True)"
   ]
  },
  {
   "cell_type": "markdown",
   "id": "c927ca9e",
   "metadata": {},
   "source": [
    "### Responde las siguientes preguntas:\n",
    "\n",
    "- ¿Hay alguna variable que no aporta información?\n",
    "\n",
    "No, debido a que el dataset tiene pocas variables y todas ellas resultan de importancia al momento de realizar un analisis sobre los diamantes. Es importante saber sus caracteristicas y procesamiento para determinar patrones en sus precios.\n",
    "\n",
    "- Si tuvieras que eliminar variables, ¿cuáles quitarías y por qué?\n",
    "\n",
    "Si me viera obligado a descartar alguna variable, eliminaria la claridad, pues a pesar de ser una variable que si se relaciona a las demas, considero que existen aspectos de evaluacion mas importantes como el laboratoria, la claridad, su peso, tec.\n",
    "\n",
    "- ¿Existen variables que tengan datos extraños?\n",
    "\n",
    "No, todas las variables presentan datos completos, sin mebargo la variable de Lab no contiene los laboratorios por inciales como lo establece el pdf (Ej: DHC=Diamond High Council), sino por numeros del 1 al 3.\n",
    "\n",
    "- Si comparas las variables, ¿todas están en rangos similares? ¿Crees que esto afecte?\n",
    "\n",
    "Si, considero que al estar en rangos similares tienen mas relacion y se pueden establecer patrones de manera mas sencilla.\n",
    "\n",
    "- ¿Puedes encontrar grupos qué se parezcan? ¿Qué grupos son estos?\n",
    "\n",
    "El precio y el peso de los diamantes son el grupo que mas correlacion positiva paracen tener en el mapa de calor, mientras que el laboratorio y la claridad tienen mas correlacion negativa.\n"
   ]
  }
 ],
 "metadata": {
  "kernelspec": {
   "display_name": "Python 3",
   "language": "python",
   "name": "python3"
  },
  "language_info": {
   "codemirror_mode": {
    "name": "ipython",
    "version": 3
   },
   "file_extension": ".py",
   "mimetype": "text/x-python",
   "name": "python",
   "nbconvert_exporter": "python",
   "pygments_lexer": "ipython3",
   "version": "3.8.1"
  }
 },
 "nbformat": 4,
 "nbformat_minor": 5
}
