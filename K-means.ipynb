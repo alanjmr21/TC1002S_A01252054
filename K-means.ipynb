{
 "cells": [
  {
   "cell_type": "markdown",
   "metadata": {},
   "source": [
    "# K Means\n",
    "\n",
    "Alan Muñoz - A01252054\n",
    "\n",
    "**Equipo**\n",
    "* Alan Muñoz\n",
    "* Antonio Bojorquez\n",
    "* Cesar Galvez\n",
    "* Nickolas Rodriguez\n",
    "\n",
    "En esta actividad encontrarás patrones de tus datos utilizando la técnica de clustering k-means\n",
    "\n",
    "1. Carga tus datos\n",
    "2. Si determinas que alguna variable no sirve basándose en la actividad pasada, elimínala y justifica por qué quitaste o no variables.\n",
    "3. Determina un valor de k\n",
    "4. Utilizando scikit-learn calcula los centros del algoritmo k-means\n",
    "\n",
    "LINK GITHUB - https://github.com/alanjmr21/TC1002S_A01252054\n",
    "\n",
    "### Manual\n",
    "\n",
    "1. Se debe abrir la terminal y escribir el comando jupyter notebook\n",
    "2. Al abrir este editor de codigo, se puede escribir en la casilla inicial la carga de librerias y presionar el boton RUN en el menu superior de este editor.\n",
    "3. Para agregrar otra casilla hay un boton con el signo + en el mismo menu mencionado, esto hara que se abra otra casilla para escribir codigo. Ahi se escribe las segunda parte del codigo que es \"Carga de Archivo\".\n",
    "4. Se repiten los mismos pasos para correr el resto codigo."
   ]
  },
  {
   "cell_type": "markdown",
   "metadata": {},
   "source": [
    "## Importar Librerias"
   ]
  },
  {
   "cell_type": "code",
   "execution_count": 2,
   "metadata": {},
   "outputs": [],
   "source": [
    "import pandas as pd\n",
    "import seaborn as sns\n",
    "sns.set_style(\"whitegrid\")\n",
    "sns.set_context(\"notebook\", font_scale=1, rc={\"lines.linewidth\": 2,'font.family': [u'times']})\n",
    "\n",
    "import matplotlib.pylab as plt\n",
    "import numpy as np"
   ]
  },
  {
   "cell_type": "markdown",
   "metadata": {},
   "source": [
    "## Carga del Archivo: Child Smokers\n",
    "\n",
    "En esta seccion se carga el archivo y para vizualizar mejor las variables \"smoker\" y \"sex\" se cambian a valores numericos, 1 para persona que si fuma 0 para persona que no, los mismo con sex, 0 para female y 1 para male.\n",
    "\n",
    "Despues mostramos parte de dataframe"
   ]
  },
  {
   "cell_type": "code",
   "execution_count": 3,
   "metadata": {},
   "outputs": [
    {
     "name": "stdout",
     "output_type": "stream",
     "text": [
      "shape:  (654, 5)\n"
     ]
    },
    {
     "data": {
      "text/html": [
       "<div>\n",
       "<style scoped>\n",
       "    .dataframe tbody tr th:only-of-type {\n",
       "        vertical-align: middle;\n",
       "    }\n",
       "\n",
       "    .dataframe tbody tr th {\n",
       "        vertical-align: top;\n",
       "    }\n",
       "\n",
       "    .dataframe thead th {\n",
       "        text-align: right;\n",
       "    }\n",
       "</style>\n",
       "<table border=\"1\" class=\"dataframe\">\n",
       "  <thead>\n",
       "    <tr style=\"text-align: right;\">\n",
       "      <th></th>\n",
       "      <th>Age (years)</th>\n",
       "      <th>Height (cm)</th>\n",
       "      <th>FEV (litres)</th>\n",
       "      <th>Sex</th>\n",
       "      <th>Smoker</th>\n",
       "    </tr>\n",
       "  </thead>\n",
       "  <tbody>\n",
       "    <tr>\n",
       "      <th>0</th>\n",
       "      <td>9</td>\n",
       "      <td>145</td>\n",
       "      <td>1.708</td>\n",
       "      <td>0</td>\n",
       "      <td>0</td>\n",
       "    </tr>\n",
       "    <tr>\n",
       "      <th>1</th>\n",
       "      <td>8</td>\n",
       "      <td>171</td>\n",
       "      <td>1.724</td>\n",
       "      <td>0</td>\n",
       "      <td>0</td>\n",
       "    </tr>\n",
       "    <tr>\n",
       "      <th>2</th>\n",
       "      <td>7</td>\n",
       "      <td>138</td>\n",
       "      <td>1.720</td>\n",
       "      <td>0</td>\n",
       "      <td>0</td>\n",
       "    </tr>\n",
       "    <tr>\n",
       "      <th>3</th>\n",
       "      <td>9</td>\n",
       "      <td>135</td>\n",
       "      <td>1.558</td>\n",
       "      <td>1</td>\n",
       "      <td>0</td>\n",
       "    </tr>\n",
       "    <tr>\n",
       "      <th>4</th>\n",
       "      <td>9</td>\n",
       "      <td>145</td>\n",
       "      <td>1.895</td>\n",
       "      <td>1</td>\n",
       "      <td>0</td>\n",
       "    </tr>\n",
       "    <tr>\n",
       "      <th>...</th>\n",
       "      <td>...</td>\n",
       "      <td>...</td>\n",
       "      <td>...</td>\n",
       "      <td>...</td>\n",
       "      <td>...</td>\n",
       "    </tr>\n",
       "    <tr>\n",
       "      <th>649</th>\n",
       "      <td>15</td>\n",
       "      <td>152</td>\n",
       "      <td>2.278</td>\n",
       "      <td>0</td>\n",
       "      <td>1</td>\n",
       "    </tr>\n",
       "    <tr>\n",
       "      <th>650</th>\n",
       "      <td>16</td>\n",
       "      <td>183</td>\n",
       "      <td>4.872</td>\n",
       "      <td>1</td>\n",
       "      <td>1</td>\n",
       "    </tr>\n",
       "    <tr>\n",
       "      <th>651</th>\n",
       "      <td>16</td>\n",
       "      <td>170</td>\n",
       "      <td>4.270</td>\n",
       "      <td>1</td>\n",
       "      <td>1</td>\n",
       "    </tr>\n",
       "    <tr>\n",
       "      <th>652</th>\n",
       "      <td>15</td>\n",
       "      <td>173</td>\n",
       "      <td>3.727</td>\n",
       "      <td>1</td>\n",
       "      <td>1</td>\n",
       "    </tr>\n",
       "    <tr>\n",
       "      <th>653</th>\n",
       "      <td>16</td>\n",
       "      <td>160</td>\n",
       "      <td>2.795</td>\n",
       "      <td>0</td>\n",
       "      <td>1</td>\n",
       "    </tr>\n",
       "  </tbody>\n",
       "</table>\n",
       "<p>654 rows × 5 columns</p>\n",
       "</div>"
      ],
      "text/plain": [
       "     Age (years)  Height (cm)  FEV (litres)  Sex  Smoker\n",
       "0              9          145         1.708    0       0\n",
       "1              8          171         1.724    0       0\n",
       "2              7          138         1.720    0       0\n",
       "3              9          135         1.558    1       0\n",
       "4              9          145         1.895    1       0\n",
       "..           ...          ...           ...  ...     ...\n",
       "649           15          152         2.278    0       1\n",
       "650           16          183         4.872    1       1\n",
       "651           16          170         4.270    1       1\n",
       "652           15          173         3.727    1       1\n",
       "653           16          160         2.795    0       1\n",
       "\n",
       "[654 rows x 5 columns]"
      ]
     },
     "execution_count": 3,
     "metadata": {},
     "output_type": "execute_result"
    }
   ],
   "source": [
    "# Leer los datos a analizar\n",
    "csmk = pd.read_csv(\"Child Smokers.csv\", na_values = ' ')\n",
    "print('shape: ', csmk.shape)\n",
    "csmk = csmk.replace('non', 0)\n",
    "csmk = csmk.replace('smoker', 1)\n",
    "csmk = csmk.replace('female', 0)\n",
    "csmk = csmk.replace('male', 1)\n",
    "csmk\n"
   ]
  },
  {
   "cell_type": "markdown",
   "metadata": {},
   "source": [
    "## Mapa de Calor\n",
    "\n",
    "En esta seccion se obtiene una matrix de correlacion con el metodo .corr(), despues esta matriz es pasada a un mata de calor con la funcion .heatmap() dentro de la libreria seaborn, importada como sns. \n",
    "\n",
    "En esta grafica se puede apreciar de manera mas visual las relaciones que existen entres las variables, siendo los colores mas claros relaciones positivas o cercanas a 1 y los mas oscuros relaciones mas cercanas a cero o negativas.\n",
    "\n",
    "En el caso de nuestro dataset se puede observar de primera instancia que hay datos relacionados como el FEV y la altura o la altura y la edad. Asimismo, en la variable de somker, se puede observar una correlación negativa únicamente con el sexo y la variable que mas relaciones positiva tiene con este es la edad."
   ]
  },
  {
   "cell_type": "code",
   "execution_count": 4,
   "metadata": {},
   "outputs": [
    {
     "data": {
      "text/plain": [
       "<AxesSubplot:>"
      ]
     },
     "execution_count": 4,
     "metadata": {},
     "output_type": "execute_result"
    },
    {
     "data": {
      "image/png": "[encoded data removed]",
      "text/plain": [
       "<Figure size 432x288 with 2 Axes>"
      ]
     },
     "metadata": {},
     "output_type": "display_data"
    }
   ],
   "source": [
    "# Se obtiene una matriz de correlación\n",
    "correlation_matrix = csmk.corr().round(3)\n",
    "# Se usa la matriz de correlación para dibujar un mapa de calor\n",
    "# annot = True para mostrar los valores dentro del cuadro\n",
    "sns.heatmap(data=correlation_matrix, annot=True)"
   ]
  },
  {
   "cell_type": "markdown",
   "metadata": {},
   "source": [
    "## Uso de K Mean\n",
    "\n",
    "En esta seccion se modificaron los datos numericos del dataframe de manera que solo se encontraran en el rango de 0 a 1. De esta manera el K mean puede funcionar de manera mas optima."
   ]
  },
  {
   "cell_type": "code",
   "execution_count": 6,
   "metadata": {},
   "outputs": [],
   "source": [
    "# Aplicar escalamiento [0,1] a todos los valores\n",
    "from sklearn.preprocessing import MinMaxScaler\n",
    "min_max = MinMaxScaler()"
   ]
  },
  {
   "cell_type": "code",
   "execution_count": 8,
   "metadata": {},
   "outputs": [
    {
     "data": {
      "text/html": [
       "<div>\n",
       "<style scoped>\n",
       "    .dataframe tbody tr th:only-of-type {\n",
       "        vertical-align: middle;\n",
       "    }\n",
       "\n",
       "    .dataframe tbody tr th {\n",
       "        vertical-align: top;\n",
       "    }\n",
       "\n",
       "    .dataframe thead th {\n",
       "        text-align: right;\n",
       "    }\n",
       "</style>\n",
       "<table border=\"1\" class=\"dataframe\">\n",
       "  <thead>\n",
       "    <tr style=\"text-align: right;\">\n",
       "      <th></th>\n",
       "      <th>Age (years)</th>\n",
       "      <th>Height (cm)</th>\n",
       "      <th>FEV (litres)</th>\n",
       "      <th>Sex</th>\n",
       "      <th>Smoker</th>\n",
       "    </tr>\n",
       "  </thead>\n",
       "  <tbody>\n",
       "    <tr>\n",
       "      <th>0</th>\n",
       "      <td>0.3750</td>\n",
       "      <td>0.394366</td>\n",
       "      <td>0.183327</td>\n",
       "      <td>0.0</td>\n",
       "      <td>0.0</td>\n",
       "    </tr>\n",
       "    <tr>\n",
       "      <th>1</th>\n",
       "      <td>0.3125</td>\n",
       "      <td>0.760563</td>\n",
       "      <td>0.186525</td>\n",
       "      <td>0.0</td>\n",
       "      <td>0.0</td>\n",
       "    </tr>\n",
       "    <tr>\n",
       "      <th>2</th>\n",
       "      <td>0.2500</td>\n",
       "      <td>0.295775</td>\n",
       "      <td>0.185726</td>\n",
       "      <td>0.0</td>\n",
       "      <td>0.0</td>\n",
       "    </tr>\n",
       "    <tr>\n",
       "      <th>3</th>\n",
       "      <td>0.3750</td>\n",
       "      <td>0.253521</td>\n",
       "      <td>0.153339</td>\n",
       "      <td>1.0</td>\n",
       "      <td>0.0</td>\n",
       "    </tr>\n",
       "    <tr>\n",
       "      <th>4</th>\n",
       "      <td>0.3750</td>\n",
       "      <td>0.394366</td>\n",
       "      <td>0.220712</td>\n",
       "      <td>1.0</td>\n",
       "      <td>0.0</td>\n",
       "    </tr>\n",
       "    <tr>\n",
       "      <th>...</th>\n",
       "      <td>...</td>\n",
       "      <td>...</td>\n",
       "      <td>...</td>\n",
       "      <td>...</td>\n",
       "      <td>...</td>\n",
       "    </tr>\n",
       "    <tr>\n",
       "      <th>649</th>\n",
       "      <td>0.7500</td>\n",
       "      <td>0.492958</td>\n",
       "      <td>0.297281</td>\n",
       "      <td>0.0</td>\n",
       "      <td>1.0</td>\n",
       "    </tr>\n",
       "    <tr>\n",
       "      <th>650</th>\n",
       "      <td>0.8125</td>\n",
       "      <td>0.929577</td>\n",
       "      <td>0.815874</td>\n",
       "      <td>1.0</td>\n",
       "      <td>1.0</td>\n",
       "    </tr>\n",
       "    <tr>\n",
       "      <th>651</th>\n",
       "      <td>0.8125</td>\n",
       "      <td>0.746479</td>\n",
       "      <td>0.695522</td>\n",
       "      <td>1.0</td>\n",
       "      <td>1.0</td>\n",
       "    </tr>\n",
       "    <tr>\n",
       "      <th>652</th>\n",
       "      <td>0.7500</td>\n",
       "      <td>0.788732</td>\n",
       "      <td>0.586965</td>\n",
       "      <td>1.0</td>\n",
       "      <td>1.0</td>\n",
       "    </tr>\n",
       "    <tr>\n",
       "      <th>653</th>\n",
       "      <td>0.8125</td>\n",
       "      <td>0.605634</td>\n",
       "      <td>0.400640</td>\n",
       "      <td>0.0</td>\n",
       "      <td>1.0</td>\n",
       "    </tr>\n",
       "  </tbody>\n",
       "</table>\n",
       "<p>654 rows × 5 columns</p>\n",
       "</div>"
      ],
      "text/plain": [
       "     Age (years)  Height (cm)  FEV (litres)  Sex  Smoker\n",
       "0         0.3750     0.394366      0.183327  0.0     0.0\n",
       "1         0.3125     0.760563      0.186525  0.0     0.0\n",
       "2         0.2500     0.295775      0.185726  0.0     0.0\n",
       "3         0.3750     0.253521      0.153339  1.0     0.0\n",
       "4         0.3750     0.394366      0.220712  1.0     0.0\n",
       "..           ...          ...           ...  ...     ...\n",
       "649       0.7500     0.492958      0.297281  0.0     1.0\n",
       "650       0.8125     0.929577      0.815874  1.0     1.0\n",
       "651       0.8125     0.746479      0.695522  1.0     1.0\n",
       "652       0.7500     0.788732      0.586965  1.0     1.0\n",
       "653       0.8125     0.605634      0.400640  0.0     1.0\n",
       "\n",
       "[654 rows x 5 columns]"
      ]
     },
     "execution_count": 8,
     "metadata": {},
     "output_type": "execute_result"
    }
   ],
   "source": [
    "# Transformación del DataFrame original\n",
    "csmk_1 = csmk\n",
    "csmk_2 = min_max.fit_transform(csmk_1.values)\n",
    "csmk_2 = pd.DataFrame(csmk_2, columns=csmk_1.columns)\n",
    "csmk_2"
   ]
  },
  {
   "cell_type": "markdown",
   "metadata": {},
   "source": [
    "### Clasificacion por K Means\n",
    "\n",
    "En esta parte importamnos K means del sklearn.cluster para agrupar nuestros datos y observar que variables muestran mayor distribucion y por ende resultan mas significativas al momento de hacer analisis estadistico."
   ]
  },
  {
   "cell_type": "code",
   "execution_count": 6,
   "metadata": {},
   "outputs": [
    {
     "data": {
      "text/plain": [
       "array([[3.97849462e-01, 4.84072896e-01, 3.17515288e-01, 6.66133815e-16,\n",
       "        1.52655666e-16],\n",
       "       [4.17943548e-01, 5.53066788e-01, 3.88520721e-01, 1.00000000e+00,\n",
       "        1.66533454e-16],\n",
       "       [6.57692308e-01, 7.11809317e-01, 4.96973518e-01, 4.00000000e-01,\n",
       "        1.00000000e+00]])"
      ]
     },
     "execution_count": 6,
     "metadata": {},
     "output_type": "execute_result"
    }
   ],
   "source": [
    "# Uso de clasificación por KMeans\n",
    "from sklearn.cluster import KMeans\n",
    "clu = KMeans(n_clusters=3)\n",
    "clu.fit(csmk_2)\n",
    "clu.cluster_centers_"
   ]
  },
  {
   "cell_type": "code",
   "execution_count": 9,
   "metadata": {},
   "outputs": [
    {
     "data": {
      "text/plain": [
       "array([[6.41025641e-01, 6.61610690e-01, 4.34815817e-01, 0.00000000e+00,\n",
       "        1.00000000e+00],\n",
       "       [3.04142442e-01, 3.87078284e-01, 2.49025971e-01, 1.00000000e+00,\n",
       "        1.24900090e-16],\n",
       "       [4.90968208e-01, 5.89839616e-01, 3.95862464e-01, 3.33066907e-16,\n",
       "        5.55111512e-17],\n",
       "       [5.59782609e-01, 7.59951010e-01, 5.62383742e-01, 1.00000000e+00,\n",
       "        6.93889390e-17],\n",
       "       [6.82692308e-01, 7.87107259e-01, 5.90210070e-01, 1.00000000e+00,\n",
       "        1.00000000e+00],\n",
       "       [2.45872642e-01, 3.11453627e-01, 1.89646783e-01, 4.44089210e-16,\n",
       "        8.32667268e-17]])"
      ]
     },
     "execution_count": 9,
     "metadata": {},
     "output_type": "execute_result"
    }
   ],
   "source": [
    "# Uso de clasificación por KMeans\n",
    "from sklearn.cluster import KMeans\n",
    "clu = KMeans(n_clusters=6)\n",
    "clu.fit(csmk_2)\n",
    "clu.cluster_centers_"
   ]
  },
  {
   "cell_type": "code",
   "execution_count": 10,
   "metadata": {},
   "outputs": [
    {
     "data": {
      "text/plain": [
       "array([[ 3.95000000e-01,  5.17934272e-01,  3.23350660e-01,\n",
       "         1.00000000e+00, -6.93889390e-17],\n",
       "       [ 4.52963918e-01,  5.82401626e-01,  3.84405001e-01,\n",
       "         2.22044605e-16,  0.00000000e+00],\n",
       "       [ 6.41025641e-01,  6.61610690e-01,  4.34815817e-01,\n",
       "         0.00000000e+00,  1.00000000e+00],\n",
       "       [ 7.43421053e-01,  8.27279466e-01,  6.72236369e-01,\n",
       "         1.00000000e+00,  1.00000000e+00],\n",
       "       [ 1.57094595e-01,  1.96421774e-01,  1.58061100e-01,\n",
       "         1.00000000e+00, -5.55111512e-17],\n",
       "       [ 1.14583333e-01,  1.38497653e-01,  1.09564508e-01,\n",
       "        -2.22044605e-16, -2.77555756e-17],\n",
       "       [ 7.75568182e-01,  8.80921895e-01,  7.71018865e-01,\n",
       "         1.00000000e+00, -2.77555756e-17],\n",
       "       [ 5.72010870e-01,  8.16289039e-01,  6.38262086e-01,\n",
       "         1.00000000e+00, -6.93889390e-17],\n",
       "       [ 3.34166667e-01,  4.48262911e-01,  2.66871918e-01,\n",
       "         1.11022302e-16,  0.00000000e+00],\n",
       "       [ 6.44531250e-01,  6.60504695e-01,  4.73285686e-01,\n",
       "        -2.22044605e-16, -5.55111512e-17],\n",
       "       [ 2.37500000e-01,  2.83299799e-01,  1.69623579e-01,\n",
       "        -2.22044605e-16, -4.16333634e-17],\n",
       "       [ 5.17857143e-01,  6.78068410e-01,  3.67567259e-01,\n",
       "         1.00000000e+00,  1.00000000e+00],\n",
       "       [ 2.92658730e-01,  3.50771294e-01,  2.21076649e-01,\n",
       "         1.00000000e+00,  0.00000000e+00],\n",
       "       [ 4.82276119e-01,  6.91191928e-01,  4.49127812e-01,\n",
       "         1.00000000e+00, -2.77555756e-17]])"
      ]
     },
     "execution_count": 10,
     "metadata": {},
     "output_type": "execute_result"
    }
   ],
   "source": [
    "# Uso de clasificación por KMeans\n",
    "from sklearn.cluster import KMeans\n",
    "clu = KMeans(n_clusters=14)\n",
    "clu.fit(csmk_2)\n",
    "clu.cluster_centers_"
   ]
  },
  {
   "cell_type": "markdown",
   "metadata": {},
   "source": [
    "Al analizar los grupos formados, pudimos observar que la cantidad de clusters generalmente se puede reducir a 3 grupos y que la variable con una mayor distribucion es la del sexo."
   ]
  },
  {
   "cell_type": "markdown",
   "metadata": {},
   "source": [
    "# Preguntas del Reporte\n",
    "\n",
    "**1. ¿Crees que estos centros puedan ser representativos de los datos? ¿Por qué?**\n",
    "\n",
    "Estos centros pueden ser utilizados, hay algunos con gran diferencia como es el caso de columna 4, \n",
    "y otros relevantes pero no tan impactantes como columnas 1, 2 y 3.\n",
    "\n",
    "**2. ¿Cómo obtuviste el valor de k a usar?** \n",
    "\n",
    "Probamos primero con k=3 y vimos varios grupos de 3 y algunos de 2, luego probamos ç\n",
    "con valores más altos como k=6 y comprobamos que cuando mucho hay grupos de 3.\n",
    "\n",
    "**3. ¿Los centros serían más representativos si usaras un valor más alto? ¿Más bajo?** \n",
    "\n",
    "Con un valor más alto la cantidad de grupos sigue siendo la misma, y con un valor más \n",
    "bajo simplificamos demasiado, por lo que ninguno funciona tan bien.\n",
    "\n",
    "**4. ¿Qué distancia tienen los centros entre sí?**\n",
    "\n",
    "Dependiendo de la variable, los centros mantienen distancias cortas o grandes entre sí. En la primera variable (Edad), hay cantidades que difieren por 0.57 unidades. En la segunda (Altura) difieren por 0.22 unidades aprox. En la tercera (FEV Liters) por 0.17, en la cuarta (Sex) difieren de 0.7 a 1 y en la quinta (Smoker) casi todos los resultados de los clusters son iguales.  \n",
    "\n",
    "**5. ¿Hay alguno que este muy cercano a otros?** \n",
    "\n",
    "Los centros de la columna 3 están bastante cerca los unos de los otros, con diferencia de 1 más o menos, y en la columna 5 hay dos que son básicamente el mismo, con un valor cercano a cero.\n",
    "\n",
    "**6. ¿Qué pasaría con los centros si tuviéramos muchos outliers en el análisis de cajas y bigotes?** \n",
    "\n",
    "Si tuviéramos una gran cantidad de outliers en nuestros boxplots, podríamos aclarar que varios de los participantes no pertenecen al rango de estudio que se evaluó o mejor dicho, estos al final no terminaron teniendo datos relevantes al estudio de los jóvenes fumadores.\n",
    "\n",
    "**7. ¿Qué puedes decir de los datos basándose en los centros?**\n",
    "\n",
    "Basándonos en los centros podemos concluir que el margen de fumadores en jóvenes es uno pequeño pero esto aún indica la existencia de jóvenes fumadores en el conjunto de datos.\n",
    "\n",
    "\n"
   ]
  },
  {
   "cell_type": "code",
   "execution_count": null,
   "metadata": {},
   "outputs": [],
   "source": []
  }
 ],
 "metadata": {
  "kernelspec": {
   "display_name": "Python 3",
   "language": "python",
   "name": "python3"
  },
  "language_info": {
   "codemirror_mode": {
    "name": "ipython",
    "version": 3
   },
   "file_extension": ".py",
   "mimetype": "text/x-python",
   "name": "python",
   "nbconvert_exporter": "python",
   "pygments_lexer": "ipython3",
   "version": "3.8.1"
  }
 },
 "nbformat": 4,
 "nbformat_minor": 4
}
